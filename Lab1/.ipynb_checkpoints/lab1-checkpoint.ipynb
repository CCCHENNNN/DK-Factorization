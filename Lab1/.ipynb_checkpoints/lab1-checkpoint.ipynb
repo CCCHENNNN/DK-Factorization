{
 "cells": [
  {
   "cell_type": "code",
   "execution_count": 1,
   "metadata": {},
   "outputs": [],
   "source": [
    "import numpy as np\n",
    "import matplotlib.pylab as plt"
   ]
  },
  {
   "cell_type": "code",
   "execution_count": 8,
   "metadata": {},
   "outputs": [
    {
     "name": "stdout",
     "output_type": "stream",
     "text": [
      "[[-0.38350193  2.60254011 -0.34128872]\n",
      " [-0.69975222 -1.32546428  0.15797358]\n",
      " [ 0.03828141 -2.12662535 -2.37246649]\n",
      " [ 0.86432013  2.09595356  2.62135115]\n",
      " [ 0.78896798  0.06333778 -0.78641955]\n",
      " [-0.85498693 -0.03972816 -1.61317568]\n",
      " [ 6.76304702 -0.45961325  1.50764799]\n",
      " [-1.68821187  1.40988061  0.46081721]\n",
      " [ 1.48883274  2.51001452  1.92103695]\n",
      " [-2.76309767  0.92731427  1.21929031]]\n",
      "[[ 2.23366996 -2.71570796 -2.38222809  4.35053569 -1.12417504  1.2917144\n",
      "   1.88297768 -0.44458219 -1.27132995 -1.30209529  2.5455619  -1.54670833\n",
      "   0.61017014  0.53638658 -0.50978791  1.70958604  0.61027664 -5.65172551\n",
      "  -1.37457805  2.84243151]\n",
      " [-1.23278522  0.35005447 -1.76091497 -3.77856567  1.36167211  3.38612691\n",
      "   1.9395635  -2.82819716  0.95273039  2.01969181 -0.12330804 -3.16721226\n",
      "   2.15856215  0.94573308  3.38265186  1.32949623  2.08464531 -1.05071446\n",
      "  -0.2397724   1.18891071]\n",
      " [-2.35742117  1.17511171  4.22313959  1.44369192 -2.91672409  0.62174125\n",
      "  -2.73395982  1.82249172  0.48458566 -0.47205316  1.78784992  1.57187147\n",
      "  -0.08984119  0.91167154 -2.91574466  3.77818671  2.12958435  2.34276445\n",
      "   0.82864162 -0.57629492]]\n"
     ]
    }
   ],
   "source": [
    "I=10\n",
    "\n",
    "J=20\n",
    "\n",
    "K=3\n",
    "\n",
    "# initialize it from random numbers (\"randn\" can be positive or negative)\n",
    "Wtrue=np.dot(2,np.random.randn(I,K))\n",
    "\n",
    "Htrue=np.dot(2,np.random.randn(K,J))\n",
    "print(Wtrue)\n",
    "print(Htrue)"
   ]
  },
  {
   "cell_type": "code",
   "execution_count": 9,
   "metadata": {},
   "outputs": [
    {
     "name": "stdout",
     "output_type": "stream",
     "text": [
      "[[False False False]\n",
      " [ True  True  True]\n",
      " [False False False]\n",
      " [False False False]\n",
      " [ True  True False]\n",
      " [ True  True  True]\n",
      " [ True  True  True]\n",
      " [False  True False]\n",
      " [ True  True False]\n",
      " [False  True  True]]\n"
     ]
    }
   ],
   "source": [
    "randomMask1=(np.random.rand(I,K) < 0.5)\n",
    "\n",
    "randomMask2=(np.random.rand(K,J) < 0.5)\n",
    "print(randomMask1)"
   ]
  },
  {
   "cell_type": "code",
   "execution_count": 10,
   "metadata": {},
   "outputs": [
    {
     "name": "stdout",
     "output_type": "stream",
     "text": [
      "[[-0.          0.         -0.        ]\n",
      " [-0.69975222 -1.32546428  0.15797358]\n",
      " [ 0.         -0.         -0.        ]\n",
      " [ 0.          0.          0.        ]\n",
      " [ 0.78896798  0.06333778 -0.        ]\n",
      " [-0.85498693 -0.03972816 -1.61317568]\n",
      " [ 6.76304702 -0.45961325  1.50764799]\n",
      " [-0.          1.40988061  0.        ]\n",
      " [ 1.48883274  2.51001452  0.        ]\n",
      " [-0.          0.92731427  1.21929031]]\n"
     ]
    }
   ],
   "source": [
    "Wtrue=np.multiply(Wtrue,randomMask1)\n",
    "\n",
    "Htrue=np.multiply(Htrue,randomMask2)\n",
    "print(Wtrue)"
   ]
  },
  {
   "cell_type": "code",
   "execution_count": 11,
   "metadata": {},
   "outputs": [
    {
     "name": "stdout",
     "output_type": "stream",
     "text": [
      "[[ 8.00087912e-01 -2.08679166e-01  1.23698774e+00  3.74142165e-01\n",
      "  -8.40243238e-02 -1.12124157e+00 -2.24720718e-01  8.71476223e-01\n",
      "   2.12235034e-02 -1.26223831e+00  7.13278688e-01  8.05208425e-01\n",
      "   1.88469560e-02 -5.73369186e-02 -5.11134860e-01 -7.00078157e-01\n",
      "  -1.70218903e+00 -6.80151863e-01 -1.24325164e+00 -6.06415455e-01]\n",
      " [-3.26480714e+00  2.42214305e+00  1.76566833e+00 -3.31420123e+00\n",
      "   1.26131353e+00 -1.04087585e+00  1.63310264e+00  2.24494442e+00\n",
      "  -1.50021673e+00  7.88286689e-01 -8.73343249e-01  4.36143230e+00\n",
      "  -3.86776349e+00 -6.98060968e-01 -5.20910532e+00 -3.44470842e+00\n",
      "   1.75300890e-01  5.58543906e+00  1.03006833e+00 -1.82134940e+00]\n",
      " [ 9.86697055e-01 -9.46373588e-01 -2.33296857e-01 -1.42146397e+00\n",
      "  -1.38986049e+00 -3.71314511e-01  8.16358122e-01 -1.91482965e+00\n",
      "   1.07089413e+00 -7.17917845e-01 -4.72135431e-01 -2.15164768e+00\n",
      "  -1.33673306e+00 -3.01013551e+00  9.76422255e-01 -4.65739012e-01\n",
      "  -4.93481020e-01 -5.42463250e-01 -5.14446004e-01 -1.17180348e-01]\n",
      " [-1.59315583e+00 -1.54556580e-02 -4.41416113e-01  1.34761395e-01\n",
      "  -2.97497049e-01 -4.74495859e-01  1.60483134e+00  1.50747743e-01\n",
      "  -3.60109547e-01 -2.10946891e-01  6.20003679e-01 -4.13142897e-01\n",
      "   5.44255667e-01 -8.46944847e-01  2.02227855e-01 -3.95459830e-01\n",
      "   1.33928221e-01  1.52371518e+00 -2.65312930e-01  1.85793760e+00]\n",
      " [ 1.63362364e+00 -3.14001032e+00 -2.44125464e-01  2.89573448e+00\n",
      "  -6.05962958e-01  6.73585716e-01  1.58079984e-02 -2.99420736e-02\n",
      "   2.42432216e-01 -2.51897021e+00 -7.47602754e-01 -3.57556679e-01\n",
      "  -1.06176063e-01  8.22918159e-01 -3.69911625e-01 -7.91586599e-01\n",
      "   2.42760429e-01 -3.23110891e+00 -2.07590056e+00  5.26964226e+00]\n",
      " [-2.35257620e+00 -1.16798906e+00  1.25027007e+00 -6.47865275e+00\n",
      "   1.98226319e-01 -2.90534438e+00  3.98374218e-01 -3.80244636e+00\n",
      "  -1.05590216e-01  2.35891444e+00  1.65414249e+00 -2.18637942e-01\n",
      "  -1.02593804e+00 -1.07097705e+00  2.91020362e-01  1.44678363e+00\n",
      "  -4.20237319e+00  2.46751953e+00  1.43052518e+00 -2.18657698e+00]\n",
      " [ 1.70227452e+01 -1.59945670e+01  2.71112812e+00  3.16363150e+01\n",
      "  -1.80059443e+00  9.31258772e+00  5.20846012e-01  4.81228480e-02\n",
      "  -6.19658142e+00  1.56429596e-01 -4.97262454e-03  2.07487887e+00\n",
      "  -2.45125665e+00  1.85060392e+00 -5.43978428e+00 -1.02234328e+00\n",
      "   8.50365431e+00 -3.26492134e+01 -1.01989853e+01  1.71417045e+01]\n",
      " [ 6.73069328e-01  3.81602205e-01 -2.83989677e+00 -6.10398995e-01\n",
      "  -9.09527667e-01  1.34482503e+00 -1.80820371e-02 -1.60104152e+00\n",
      "  -1.19438332e+00 -3.00364051e-01 -9.76945621e-01 -3.74757026e+00\n",
      "   2.61599704e+00  2.39889913e+00  5.31544209e+00  6.13184784e-01\n",
      "   9.68203622e-02 -5.40976120e-01  9.34344347e-01  8.95668286e-01]\n",
      " [ 3.34253151e+00 -3.58262010e+00 -4.26471792e+00  7.00839135e+00\n",
      "  -1.15557827e-01  3.52151093e+00 -5.71893972e-01 -5.85152580e-01\n",
      "  -2.11164496e+00 -1.68085162e-01  6.15983801e-03 -8.18386816e+00\n",
      "   5.51780211e+00  2.06482651e+00  8.65275101e+00  4.22265563e+00\n",
      "   1.68073237e+00 -9.71956373e+00 -5.83870852e+00  8.25283893e+00]\n",
      " [ 1.52665444e+00 -2.46514082e-01 -9.01693620e-01  2.57273135e+00\n",
      "   1.10221467e+00  4.27472870e-01 -2.60154870e-01  2.11716488e+00\n",
      "   8.00528202e-01  6.96622788e-01  7.61587125e-01 -3.56253064e+00\n",
      "   1.13227537e+00  2.82862145e+00  3.51577553e+00  1.87728509e+00\n",
      "   3.59517262e+00  1.01058900e-01 -1.15242291e+00  2.05125358e+00]]\n"
     ]
    }
   ],
   "source": [
    "dataNoise=1\n",
    "X=np.dot(Wtrue,Htrue) + np.dot(dataNoise,np.random.randn(I,J))\n",
    "print(X)\n"
   ]
  },
  {
   "cell_type": "code",
   "execution_count": 20,
   "metadata": {},
   "outputs": [
    {
     "data": {
      "text/plain": [
       "<matplotlib.image.AxesImage at 0x118db6be0>"
      ]
     },
     "execution_count": 20,
     "metadata": {},
     "output_type": "execute_result"
    },
    {
     "data": {
      "image/png": "[encoded data removed]",
      "text/plain": [
       "<Figure size 432x288 with 1 Axes>"
      ]
     },
     "metadata": {},
     "output_type": "display_data"
    }
   ],
   "source": [
    "plt.subplot(332)\n",
    "plt.imshow(Wtrue,extent=[0, 1, 0, 1])"
   ]
  },
  {
   "cell_type": "code",
   "execution_count": null,
   "metadata": {},
   "outputs": [],
   "source": []
  }
 ],
 "metadata": {
  "kernelspec": {
   "display_name": "Python 3",
   "language": "python",
   "name": "python3"
  },
  "language_info": {
   "codemirror_mode": {
    "name": "ipython",
    "version": 3
   },
   "file_extension": ".py",
   "mimetype": "text/x-python",
   "name": "python",
   "nbconvert_exporter": "python",
   "pygments_lexer": "ipython3",
   "version": "3.6.5"
  }
 },
 "nbformat": 4,
 "nbformat_minor": 2
}
